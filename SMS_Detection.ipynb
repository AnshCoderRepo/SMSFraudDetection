{
 "cells": [
  {
   "cell_type": "code",
   "execution_count": 3,
   "id": "d7f350bb-c93c-4799-9211-fa1ff58cedf4",
   "metadata": {},
   "outputs": [],
   "source": [
    "import pandas as pd\n",
    "df = pd.read_csv('spam.csv', encoding='latin1')\n"
   ]
  },
  {
   "cell_type": "code",
   "execution_count": 4,
   "id": "16b81854-e83f-400d-859f-b7692f8141fc",
   "metadata": {},
   "outputs": [
    {
     "data": {
      "text/html": [
       "<div>\n",
       "<style scoped>\n",
       "    .dataframe tbody tr th:only-of-type {\n",
       "        vertical-align: middle;\n",
       "    }\n",
       "\n",
       "    .dataframe tbody tr th {\n",
       "        vertical-align: top;\n",
       "    }\n",
       "\n",
       "    .dataframe thead th {\n",
       "        text-align: right;\n",
       "    }\n",
       "</style>\n",
       "<table border=\"1\" class=\"dataframe\">\n",
       "  <thead>\n",
       "    <tr style=\"text-align: right;\">\n",
       "      <th></th>\n",
       "      <th>v1</th>\n",
       "      <th>v2</th>\n",
       "      <th>Unnamed: 2</th>\n",
       "      <th>Unnamed: 3</th>\n",
       "      <th>Unnamed: 4</th>\n",
       "    </tr>\n",
       "  </thead>\n",
       "  <tbody>\n",
       "    <tr>\n",
       "      <th>0</th>\n",
       "      <td>ham</td>\n",
       "      <td>Go until jurong point, crazy.. Available only ...</td>\n",
       "      <td>NaN</td>\n",
       "      <td>NaN</td>\n",
       "      <td>NaN</td>\n",
       "    </tr>\n",
       "    <tr>\n",
       "      <th>1</th>\n",
       "      <td>ham</td>\n",
       "      <td>Ok lar... Joking wif u oni...</td>\n",
       "      <td>NaN</td>\n",
       "      <td>NaN</td>\n",
       "      <td>NaN</td>\n",
       "    </tr>\n",
       "    <tr>\n",
       "      <th>2</th>\n",
       "      <td>spam</td>\n",
       "      <td>Free entry in 2 a wkly comp to win FA Cup fina...</td>\n",
       "      <td>NaN</td>\n",
       "      <td>NaN</td>\n",
       "      <td>NaN</td>\n",
       "    </tr>\n",
       "    <tr>\n",
       "      <th>3</th>\n",
       "      <td>ham</td>\n",
       "      <td>U dun say so early hor... U c already then say...</td>\n",
       "      <td>NaN</td>\n",
       "      <td>NaN</td>\n",
       "      <td>NaN</td>\n",
       "    </tr>\n",
       "    <tr>\n",
       "      <th>4</th>\n",
       "      <td>ham</td>\n",
       "      <td>Nah I don't think he goes to usf, he lives aro...</td>\n",
       "      <td>NaN</td>\n",
       "      <td>NaN</td>\n",
       "      <td>NaN</td>\n",
       "    </tr>\n",
       "  </tbody>\n",
       "</table>\n",
       "</div>"
      ],
      "text/plain": [
       "     v1                                                 v2 Unnamed: 2  \\\n",
       "0   ham  Go until jurong point, crazy.. Available only ...        NaN   \n",
       "1   ham                      Ok lar... Joking wif u oni...        NaN   \n",
       "2  spam  Free entry in 2 a wkly comp to win FA Cup fina...        NaN   \n",
       "3   ham  U dun say so early hor... U c already then say...        NaN   \n",
       "4   ham  Nah I don't think he goes to usf, he lives aro...        NaN   \n",
       "\n",
       "  Unnamed: 3 Unnamed: 4  \n",
       "0        NaN        NaN  \n",
       "1        NaN        NaN  \n",
       "2        NaN        NaN  \n",
       "3        NaN        NaN  \n",
       "4        NaN        NaN  "
      ]
     },
     "execution_count": 4,
     "metadata": {},
     "output_type": "execute_result"
    }
   ],
   "source": [
    "df.head(5)"
   ]
  },
  {
   "cell_type": "code",
   "execution_count": 5,
   "id": "e53e3c16-7e61-4572-a8d7-4f64e3c77eaa",
   "metadata": {},
   "outputs": [],
   "source": [
    "df.drop(['Unnamed: 2', 'Unnamed: 3', 'Unnamed: 4'], axis=1, inplace=True)\n"
   ]
  },
  {
   "cell_type": "code",
   "execution_count": 6,
   "id": "988fe8b6-5f1c-43db-b7e8-9373fab6316f",
   "metadata": {},
   "outputs": [
    {
     "data": {
      "text/plain": [
       "(5572, 2)"
      ]
     },
     "execution_count": 6,
     "metadata": {},
     "output_type": "execute_result"
    }
   ],
   "source": [
    "df.head(5)\n",
    "df.shape"
   ]
  },
  {
   "cell_type": "code",
   "execution_count": 7,
   "id": "cb051266-8a6d-4a91-a526-d449c08480de",
   "metadata": {},
   "outputs": [
    {
     "data": {
      "text/plain": [
       "\"Free entry in 2 a wkly comp to win FA Cup final tkts 21st May 2005. Text FA to 87121 to receive entry question(std txt rate)T&C's apply 08452810075over18's\""
      ]
     },
     "execution_count": 7,
     "metadata": {},
     "output_type": "execute_result"
    }
   ],
   "source": [
    "df['v2'][2]"
   ]
  },
  {
   "cell_type": "code",
   "execution_count": 8,
   "id": "8939af9d-a1ef-4119-a829-c22dd10c4799",
   "metadata": {},
   "outputs": [],
   "source": [
    "import pandas as pd \n",
    "import numpy as np\n",
    "import matplotlib.pyplot as plt\n",
    "import seaborn as sns \n",
    "from sklearn.model_selection import  train_test_split\n",
    "from sklearn.feature_extraction.text import CountVectorizer\n",
    "from sklearn.metrics import accuracy_score\n",
    "from sklearn.metrics import classification_report , confusion_matrix\n",
    "from sklearn.naive_bayes import MultinomialNB"
   ]
  },
  {
   "cell_type": "markdown",
   "id": "cb496e76-ad8c-43f7-bcd6-9b72dea3bd00",
   "metadata": {},
   "source": [
    "**Exploratory Data Analysis (EDA)**"
   ]
  },
  {
   "cell_type": "code",
   "execution_count": 9,
   "id": "e1754391-d4da-45f9-8d23-86c30e855744",
   "metadata": {},
   "outputs": [
    {
     "data": {
      "text/html": [
       "<div>\n",
       "<style scoped>\n",
       "    .dataframe tbody tr th:only-of-type {\n",
       "        vertical-align: middle;\n",
       "    }\n",
       "\n",
       "    .dataframe tbody tr th {\n",
       "        vertical-align: top;\n",
       "    }\n",
       "\n",
       "    .dataframe thead th {\n",
       "        text-align: right;\n",
       "    }\n",
       "</style>\n",
       "<table border=\"1\" class=\"dataframe\">\n",
       "  <thead>\n",
       "    <tr style=\"text-align: right;\">\n",
       "      <th></th>\n",
       "      <th>v1</th>\n",
       "      <th>v2</th>\n",
       "    </tr>\n",
       "  </thead>\n",
       "  <tbody>\n",
       "    <tr>\n",
       "      <th>count</th>\n",
       "      <td>5572</td>\n",
       "      <td>5572</td>\n",
       "    </tr>\n",
       "    <tr>\n",
       "      <th>unique</th>\n",
       "      <td>2</td>\n",
       "      <td>5169</td>\n",
       "    </tr>\n",
       "    <tr>\n",
       "      <th>top</th>\n",
       "      <td>ham</td>\n",
       "      <td>Sorry, I'll call later</td>\n",
       "    </tr>\n",
       "    <tr>\n",
       "      <th>freq</th>\n",
       "      <td>4825</td>\n",
       "      <td>30</td>\n",
       "    </tr>\n",
       "  </tbody>\n",
       "</table>\n",
       "</div>"
      ],
      "text/plain": [
       "          v1                      v2\n",
       "count   5572                    5572\n",
       "unique     2                    5169\n",
       "top      ham  Sorry, I'll call later\n",
       "freq    4825                      30"
      ]
     },
     "execution_count": 9,
     "metadata": {},
     "output_type": "execute_result"
    }
   ],
   "source": [
    "df.describe()"
   ]
  },
  {
   "cell_type": "code",
   "execution_count": 10,
   "id": "b246396f-8baf-4467-b587-0bf4fcecf6c6",
   "metadata": {},
   "outputs": [
    {
     "data": {
      "text/html": [
       "<div>\n",
       "<style scoped>\n",
       "    .dataframe tbody tr th:only-of-type {\n",
       "        vertical-align: middle;\n",
       "    }\n",
       "\n",
       "    .dataframe tbody tr th {\n",
       "        vertical-align: top;\n",
       "    }\n",
       "\n",
       "    .dataframe thead th {\n",
       "        text-align: right;\n",
       "    }\n",
       "</style>\n",
       "<table border=\"1\" class=\"dataframe\">\n",
       "  <thead>\n",
       "    <tr style=\"text-align: right;\">\n",
       "      <th></th>\n",
       "      <th>v1</th>\n",
       "      <th>v2</th>\n",
       "    </tr>\n",
       "  </thead>\n",
       "  <tbody>\n",
       "    <tr>\n",
       "      <th>2</th>\n",
       "      <td>spam</td>\n",
       "      <td>Free entry in 2 a wkly comp to win FA Cup fina...</td>\n",
       "    </tr>\n",
       "    <tr>\n",
       "      <th>5</th>\n",
       "      <td>spam</td>\n",
       "      <td>FreeMsg Hey there darling it's been 3 week's n...</td>\n",
       "    </tr>\n",
       "    <tr>\n",
       "      <th>8</th>\n",
       "      <td>spam</td>\n",
       "      <td>WINNER!! As a valued network customer you have...</td>\n",
       "    </tr>\n",
       "    <tr>\n",
       "      <th>9</th>\n",
       "      <td>spam</td>\n",
       "      <td>Had your mobile 11 months or more? U R entitle...</td>\n",
       "    </tr>\n",
       "    <tr>\n",
       "      <th>11</th>\n",
       "      <td>spam</td>\n",
       "      <td>SIX chances to win CASH! From 100 to 20,000 po...</td>\n",
       "    </tr>\n",
       "  </tbody>\n",
       "</table>\n",
       "</div>"
      ],
      "text/plain": [
       "      v1                                                 v2\n",
       "2   spam  Free entry in 2 a wkly comp to win FA Cup fina...\n",
       "5   spam  FreeMsg Hey there darling it's been 3 week's n...\n",
       "8   spam  WINNER!! As a valued network customer you have...\n",
       "9   spam  Had your mobile 11 months or more? U R entitle...\n",
       "11  spam  SIX chances to win CASH! From 100 to 20,000 po..."
      ]
     },
     "execution_count": 10,
     "metadata": {},
     "output_type": "execute_result"
    }
   ],
   "source": [
    "#Extract SPAM Message \n",
    "spam_messages=df[df[\"v1\"]==\"spam\"]\n",
    "spam_messages.head() #display first 5 rows  of SPAM messages "
   ]
  },
  {
   "cell_type": "code",
   "execution_count": 11,
   "id": "bc67ee82-b56b-4d0d-b58f-6d482318dfab",
   "metadata": {},
   "outputs": [
    {
     "data": {
      "text/html": [
       "<div>\n",
       "<style scoped>\n",
       "    .dataframe tbody tr th:only-of-type {\n",
       "        vertical-align: middle;\n",
       "    }\n",
       "\n",
       "    .dataframe tbody tr th {\n",
       "        vertical-align: top;\n",
       "    }\n",
       "\n",
       "    .dataframe thead th {\n",
       "        text-align: right;\n",
       "    }\n",
       "</style>\n",
       "<table border=\"1\" class=\"dataframe\">\n",
       "  <thead>\n",
       "    <tr style=\"text-align: right;\">\n",
       "      <th></th>\n",
       "      <th>v1</th>\n",
       "      <th>v2</th>\n",
       "    </tr>\n",
       "  </thead>\n",
       "  <tbody>\n",
       "    <tr>\n",
       "      <th>count</th>\n",
       "      <td>747</td>\n",
       "      <td>747</td>\n",
       "    </tr>\n",
       "    <tr>\n",
       "      <th>unique</th>\n",
       "      <td>1</td>\n",
       "      <td>653</td>\n",
       "    </tr>\n",
       "    <tr>\n",
       "      <th>top</th>\n",
       "      <td>spam</td>\n",
       "      <td>Please call our customer service representativ...</td>\n",
       "    </tr>\n",
       "    <tr>\n",
       "      <th>freq</th>\n",
       "      <td>747</td>\n",
       "      <td>4</td>\n",
       "    </tr>\n",
       "  </tbody>\n",
       "</table>\n",
       "</div>"
      ],
      "text/plain": [
       "          v1                                                 v2\n",
       "count    747                                                747\n",
       "unique     1                                                653\n",
       "top     spam  Please call our customer service representativ...\n",
       "freq     747                                                  4"
      ]
     },
     "execution_count": 11,
     "metadata": {},
     "output_type": "execute_result"
    }
   ],
   "source": [
    "#Find count and uniques messege count of Spam messege\n",
    "spam_messages.describe()"
   ]
  },
  {
   "cell_type": "code",
   "execution_count": 12,
   "id": "4f1714d3-64a4-40a4-a616-123d3225c197",
   "metadata": {},
   "outputs": [
    {
     "data": {
      "image/png": "[encoded data removed]",
      "text/plain": [
       "<Figure size 640x480 with 1 Axes>"
      ]
     },
     "metadata": {},
     "output_type": "display_data"
    }
   ],
   "source": [
    "import matplotlib.pyplot as plt\n",
    "import seaborn as sns\n",
    "\n",
    "# Assuming df contains your DataFrame with a column 'v1' indicating 'HAM' or 'Spam'\n",
    "# Count the occurrences of 'HAM' and 'Spam'\n",
    "spam_counts = df[df['v1'] == 'spam'].shape[0]\n",
    "ham_counts = df[df['v1'] == 'ham'].shape[0]\n",
    "\n",
    "# Plotting\n",
    "plt.plot(['HAM', 'Spam'], [ham_counts, spam_counts], marker='o')\n",
    "plt.title('Amount of Spam and Not Spam Messages')\n",
    "plt.xlabel('Category')\n",
    "plt.ylabel('Count')\n",
    "plt.grid(True)\n",
    "plt.show()\n"
   ]
  },
  {
   "cell_type": "code",
   "execution_count": 13,
   "id": "8dd6abc6-eac4-4608-a916-e38a8ffcbddf",
   "metadata": {},
   "outputs": [
    {
     "name": "stdout",
     "output_type": "stream",
     "text": [
      "Total number of spam messages: 747\n",
      "Total number of not spam messages: 4825\n"
     ]
    }
   ],
   "source": [
    "# Assuming df contains your DataFrame with a column 'v1' indicating 'ham' or 'spam'\n",
    "#Method :-1\n",
    "spam_count = df['v1'].value_counts()['spam']\n",
    "not_spam_count = df['v1'].value_counts()['ham']\n",
    "# Method:- 2\n",
    "spam=0\n",
    "not_spam=0\n",
    "for labels in df['v1']:\n",
    "    if labels=='spam':\n",
    "        spam=spam+1\n",
    "    else:\n",
    "        not_spam=not_spam+1\n",
    "\n",
    "print(\"Total number of spam messages:\", spam_count)\n",
    "print(\"Total number of not spam messages:\", not_spam)\n"
   ]
  },
  {
   "cell_type": "code",
   "execution_count": 14,
   "id": "385ae4ef-dd39-4263-a2fe-f0d3446dadaf",
   "metadata": {},
   "outputs": [
    {
     "name": "stderr",
     "output_type": "stream",
     "text": [
      "[nltk_data] Downloading package punkt to\n",
      "[nltk_data]     C:\\Users\\anshk\\AppData\\Roaming\\nltk_data...\n",
      "[nltk_data]   Package punkt is already up-to-date!\n"
     ]
    },
    {
     "name": "stdout",
     "output_type": "stream",
     "text": [
      "Average number of words per description: 18.699389806173727\n",
      "Average number of sentences per description: 1.996410624551328\n",
      "Average number of characters per description: 80.11880832735105\n"
     ]
    }
   ],
   "source": [
    "# average  numeber of length words, sentense and text of each descrpition\n",
    "import nltk\n",
    "from nltk.tokenize import word_tokenize, sent_tokenize\n",
    "\n",
    "# Assuming df contains your DataFrame with a column 'description' containing text descriptions\n",
    "\n",
    "# Tokenize words and sentences\n",
    "nltk.download('punkt')\n",
    "\n",
    "word_lengths = []\n",
    "sentence_lengths = []\n",
    "text_lengths = []\n",
    "\n",
    "for text in df['v2']:\n",
    "    words = word_tokenize(text)\n",
    "    sentences = sent_tokenize(text)\n",
    "    \n",
    "    # Calculate lengths\n",
    "    word_lengths.append(len(words))\n",
    "    sentence_lengths.append(len(sentences))\n",
    "    text_lengths.append(len(text))\n",
    "\n",
    "# Calculate averages\n",
    "average_word_length = sum(word_lengths) / len(word_lengths)\n",
    "average_sentence_length = sum(sentence_lengths) / len(sentence_lengths)\n",
    "average_text_length = sum(text_lengths) / len(text_lengths)\n",
    "\n",
    "print(\"Average number of words per description:\", average_word_length)\n",
    "print(\"Average number of sentences per description:\", average_sentence_length)\n",
    "print(\"Average number of characters per description:\", average_text_length)\n"
   ]
  },
  {
   "cell_type": "code",
   "execution_count": 15,
   "id": "b7ea4844-dad0-4a71-a793-8d4f0203e2c8",
   "metadata": {},
   "outputs": [
    {
     "name": "stdout",
     "output_type": "stream",
     "text": [
      "      word_count  sentence_count  character_count\n",
      "0             24               2              111\n",
      "1              8               2               29\n",
      "2             37               2              155\n",
      "3             13               1               49\n",
      "4             15               1               61\n",
      "...          ...             ...              ...\n",
      "5567          35               4              161\n",
      "5568           9               1               37\n",
      "5569          15               2               57\n",
      "5570          27               1              125\n",
      "5571           7               2               26\n",
      "\n",
      "[5572 rows x 3 columns]\n"
     ]
    }
   ],
   "source": [
    "#Count the number of words , sentnces and text in each descrpition\n",
    "\n",
    "# Assuming df contains your DataFrame with a column 'description' containing text descriptions\n",
    "\n",
    "word_counts = []\n",
    "sentence_counts = []\n",
    "character_counts = []\n",
    "\n",
    "for text in df['v2']:\n",
    "    words = word_tokenize(text)\n",
    "    sentences = sent_tokenize(text)\n",
    "    \n",
    "    # Count lengths\n",
    "    word_counts.append(len(words))\n",
    "    sentence_counts.append(len(sentences))\n",
    "    character_counts.append(len(text))\n",
    "\n",
    "# Add the counts to the DataFrame\n",
    "df['word_count'] = word_counts\n",
    "df['sentence_count'] = sentence_counts\n",
    "df['character_count'] = character_counts\n",
    "\n",
    "print(df[['word_count', 'sentence_count', 'character_count']])\n"
   ]
  },
  {
   "cell_type": "code",
   "execution_count": 26,
   "id": "dd62b5d2-60d2-4afe-afc9-b3510507bc4d",
   "metadata": {},
   "outputs": [
    {
     "name": "stdout",
     "output_type": "stream",
     "text": [
      "The train Data is (4179,) (4179,)\n",
      "The test data is  (1393,) (1393,)\n"
     ]
    }
   ],
   "source": [
    "data_train, data_test, label_train, label_test=train_test_split(df.v2, df.v1, test_size=0.25, random_state=0)\n",
    "print(f\"The train Data is\", data_train.shape, label_train.shape)\n",
    "print(f\"The test data is \",data_test.shape, label_test.shape)"
   ]
  },
  {
   "cell_type": "markdown",
   "id": "999c523c-64f7-4f5d-8dd0-9c1a74335184",
   "metadata": {},
   "source": [
    "**Extraction and Vectorization->\n",
    "The CountVectorizer provides a simple way to both tokenize a collection of text documents and build a vocabulary of known words, but also to encode new documents using that vocabulary.**\n"
   ]
  },
  {
   "cell_type": "code",
   "execution_count": 27,
   "id": "28e1dc63-843a-4207-9633-6d5405570324",
   "metadata": {},
   "outputs": [],
   "source": [
    "vectorizer=CountVectorizer()\n",
    "#fit & transform\n",
    "# fit: build dict (i.e. word->wordID)  \n",
    "# transform: convert document (i.e. each line in the file) to word vector \n",
    "data_train_count = vectorizer.fit_transform(data_train)\n",
    "data_test_count  = vectorizer.transform(data_test)"
   ]
  },
  {
   "cell_type": "markdown",
   "id": "3d5c830a-4866-4f84-a58a-a8f39bc59a4a",
   "metadata": {},
   "source": [
    "**Modelling and Traning**"
   ]
  },
  {
   "cell_type": "markdown",
   "id": "b474571f-2c91-4a4e-9931-27f7377601e6",
   "metadata": {},
   "source": [
    "**Multinomial Naive Bayes is a specialized version of Naive Bayes that is designed more for text documents. Whereas simple naive Bayes would model a document as the presence and absence of particular words, multinomial naive bayes explicitly models the word counts and adjusts the underlying calculations to deal with in.\n",
    "It is a classification technique based on Bayes' Theorem with an assumption of independence among predictors. In simple terms, a Naive Bayes classifier assumes that the presence of a particular feature in a class is unrelated to the presence of any other feature.**"
   ]
  },
  {
   "cell_type": "code",
   "execution_count": 29,
   "id": "c23bf852-6e8a-41f1-b750-a55eb3349851",
   "metadata": {},
   "outputs": [
    {
     "data": {
      "text/plain": [
       "array(['ham', 'ham', 'ham', ..., 'ham', 'ham', 'spam'], dtype='<U4')"
      ]
     },
     "execution_count": 29,
     "metadata": {},
     "output_type": "execute_result"
    }
   ],
   "source": [
    "clf = MultinomialNB()\n",
    "clf.fit(data_train_count, label_train)\n",
    "predictions = clf.predict(data_test_count)\n",
    "predictions"
   ]
  },
  {
   "cell_type": "markdown",
   "id": "3150500e-7790-47e5-8d40-52c303bb4614",
   "metadata": {},
   "source": [
    "**REsults and acuracy**"
   ]
  },
  {
   "cell_type": "code",
   "execution_count": 35,
   "id": "96b6f40a-39e3-45f5-b4e5-4e644aeb1992",
   "metadata": {},
   "outputs": [
    {
     "name": "stdout",
     "output_type": "stream",
     "text": [
      "accuracy_score :  0.9863603732950467\n"
     ]
    }
   ],
   "source": [
    "print (\"accuracy_score : \", accuracy_score(label_test, predictions))\n"
   ]
  },
  {
   "cell_type": "markdown",
   "id": "54a8c3ea-59bf-41ca-b376-9212c908bfa1",
   "metadata": {},
   "source": [
    "**Confusion Matrix**"
   ]
  },
  {
   "cell_type": "code",
   "execution_count": 36,
   "id": "4bfc3960-3ab2-4376-b815-1ac1dbe4e75a",
   "metadata": {},
   "outputs": [],
   "source": [
    "#A confusion matrix is a table that is often used to describe the performance of a classification model (or “classifier”) on a set of test data for which the true values are known. It allows the visualization of the performance of an algorithm."
   ]
  },
  {
   "cell_type": "code",
   "execution_count": 38,
   "id": "c8c941c0-ad1b-4450-bc40-a2a26f779d96",
   "metadata": {},
   "outputs": [
    {
     "name": "stdout",
     "output_type": "stream",
     "text": [
      "confusion_matrix : \n",
      " [[1193    3]\n",
      " [  16  181]]\n"
     ]
    }
   ],
   "source": [
    "print (\"confusion_matrix : \\n\", confusion_matrix(label_test, predictions))\n"
   ]
  },
  {
   "cell_type": "code",
   "execution_count": 39,
   "id": "013a5ba7-de05-43f0-966b-7a602088e863",
   "metadata": {},
   "outputs": [
    {
     "name": "stdout",
     "output_type": "stream",
     "text": [
      "              precision    recall  f1-score   support\n",
      "\n",
      "         ham       0.99      1.00      0.99      1196\n",
      "        spam       0.98      0.92      0.95       197\n",
      "\n",
      "    accuracy                           0.99      1393\n",
      "   macro avg       0.99      0.96      0.97      1393\n",
      "weighted avg       0.99      0.99      0.99      1393\n",
      "\n"
     ]
    }
   ],
   "source": [
    "print (classification_report(label_test, predictions))\n"
   ]
  },
  {
   "cell_type": "code",
   "execution_count": null,
   "id": "08e3f031-db0d-4f68-8d53-f8ee8ce08ec9",
   "metadata": {},
   "outputs": [],
   "source": []
  }
 ],
 "metadata": {
  "kernelspec": {
   "display_name": "Python 3 (ipykernel)",
   "language": "python",
   "name": "python3"
  },
  "language_info": {
   "codemirror_mode": {
    "name": "ipython",
    "version": 3
   },
   "file_extension": ".py",
   "mimetype": "text/x-python",
   "name": "python",
   "nbconvert_exporter": "python",
   "pygments_lexer": "ipython3",
   "version": "3.11.5"
  }
 },
 "nbformat": 4,
 "nbformat_minor": 5
}
